{
 "cells": [
  {
   "cell_type": "code",
   "execution_count": null,
   "id": "983301ce",
   "metadata": {},
   "outputs": [],
   "source": [
    "import pandas as pd\n",
    "import streamlit as st\n",
    "import numpy as np\n",
    "from sklearn.model_selection import train_test_split\n",
    "from sklearn.feature_extraction.text import TfidfVectorizer\n",
    "from sklearn.naive_bayes import MultinomialNB\n",
    "from sklearn.metrics import classification_report, accuracy_score\n",
    "import joblib\n",
    "import os\n",
    "import re\n",
    "\n"
   ]
  },
  {
   "cell_type": "code",
   "execution_count": 65,
   "id": "702bdd12",
   "metadata": {},
   "outputs": [
    {
     "name": "stdout",
     "output_type": "stream",
     "text": [
      "------------------------------first 5 rows------------------------------\n",
      "   Message ID                       Subject  \\\n",
      "0           0  christmas tree farm pictures   \n",
      "1           1      vastar resources , inc .   \n",
      "2           2  calpine daily gas nomination   \n",
      "3           3                    re : issue   \n",
      "4           4     meter 7268 nov allocation   \n",
      "\n",
      "                                             Message Spam/Ham        Date  \n",
      "0                                                NaN      ham  1999-12-10  \n",
      "1  gary , production from the high island larger ...      ham  1999-12-13  \n",
      "2             - calpine daily gas nomination 1 . doc      ham  1999-12-14  \n",
      "3  fyi - see note below - already done .\\nstella\\...      ham  1999-12-14  \n",
      "4  fyi .\\n- - - - - - - - - - - - - - - - - - - -...      ham  1999-12-14  \n",
      "       Message ID                                            Subject  \\\n",
      "33711       33711  = ? iso - 8859 - 1 ? q ? good _ news _ c = eda...   \n",
      "33712       33712  all prescript medicines are on special . to be...   \n",
      "33713       33713              the next generation online pharmacy .   \n",
      "33714       33714                     bloow in 5 - 10 times the time   \n",
      "33715       33715                   dear sir , i am interested in it   \n",
      "\n",
      "                                                 Message Spam/Ham        Date  \n",
      "33711  hello , welcome to gigapharm onlinne shop .\\np...     spam  2005-07-29  \n",
      "33712  i got it earlier than expected and it was wrap...     spam  2005-07-29  \n",
      "33713  are you ready to rock on ? let the man in you ...     spam  2005-07-30  \n",
      "33714  learn how to last 5 - 10 times longer in\\nbed ...     spam  2005-07-30  \n",
      "33715  hi : )\\ndo you need some softwares ? i can giv...     spam  2005-07-31  \n",
      "------------------------------info about data------------------------------\n",
      "<class 'pandas.core.frame.DataFrame'>\n",
      "RangeIndex: 33716 entries, 0 to 33715\n",
      "Data columns (total 5 columns):\n",
      " #   Column      Non-Null Count  Dtype \n",
      "---  ------      --------------  ----- \n",
      " 0   Message ID  33716 non-null  int64 \n",
      " 1   Subject     33427 non-null  object\n",
      " 2   Message     33345 non-null  object\n",
      " 3   Spam/Ham    33716 non-null  object\n",
      " 4   Date        33716 non-null  object\n",
      "dtypes: int64(1), object(4)\n",
      "memory usage: 1.3+ MB\n",
      "None\n",
      "------------------------------check null values------------------------------\n",
      "Message ID      0\n",
      "Subject       289\n",
      "Message       371\n",
      "Spam/Ham        0\n",
      "Date            0\n",
      "dtype: int64\n",
      "------------------------------check duplicated rows------------------------------\n",
      "0        False\n",
      "1        False\n",
      "2        False\n",
      "3        False\n",
      "4        False\n",
      "         ...  \n",
      "33711    False\n",
      "33712    False\n",
      "33713    False\n",
      "33714    False\n",
      "33715    False\n",
      "Length: 33716, dtype: bool\n"
     ]
    }
   ],
   "source": [
    "df = pd.read_csv(\"data/enron_spam_data.csv\")\n",
    "print(\"------------------------------first 5 rows------------------------------\")\n",
    "print(df.head())\n",
    "print(df.tail())\n",
    "print(\"------------------------------info about data------------------------------\")\n",
    "print(df.info())\n",
    "\n",
    "print(\"------------------------------check null values------------------------------\")\n",
    "print(df.isnull().sum())\n",
    "\n",
    "df['Message'] = df['Message'].fillna('')\n",
    "\n",
    "print(\"------------------------------check duplicated rows------------------------------\")\n",
    "print(df.duplicated())\n",
    "df = df.drop_duplicates()\n",
    "\n",
    "df['Spam/Ham_numeric'] = df['Spam/Ham'].map({'ham': 1, 'spam': 0})\n",
    "\n",
    "X = df['Message'] \n",
    "y = df['Spam/Ham_numeric']  \n",
    "\n",
    "X_train, X_test, y_train, y_test = train_test_split(X, y, test_size=0.2, random_state=42)\n",
    "\n"
   ]
  },
  {
   "cell_type": "code",
   "execution_count": 56,
   "id": "0af8217b",
   "metadata": {},
   "outputs": [
    {
     "name": "stdout",
     "output_type": "stream",
     "text": [
      "Training features shape: (26972, 139803)\n",
      "Testing features shape: (6744, 139803)\n"
     ]
    }
   ],
   "source": [
    "# استخراج الميزات\n",
    "feature_extraction = TfidfVectorizer(min_df=1, stop_words='english', lowercase=True)\n",
    "X_train_features = feature_extraction.fit_transform(X_train)\n",
    "X_test_features = feature_extraction.transform(X_test)\n",
    "\n",
    "print(\"Training features shape:\", X_train_features.shape)\n",
    "print(\"Testing features shape:\", X_test_features.shape)"
   ]
  },
  {
   "cell_type": "code",
   "execution_count": 57,
   "id": "ff6e4d91",
   "metadata": {},
   "outputs": [
    {
     "name": "stdout",
     "output_type": "stream",
     "text": [
      "Accuracy =  0.9862099644128114\n",
      "\n",
      "Classification Report:\n",
      "              precision    recall  f1-score   support\n",
      "\n",
      "           0       0.98      0.99      0.99      3468\n",
      "           1       0.99      0.98      0.99      3276\n",
      "\n",
      "    accuracy                           0.99      6744\n",
      "   macro avg       0.99      0.99      0.99      6744\n",
      "weighted avg       0.99      0.99      0.99      6744\n",
      "\n"
     ]
    }
   ],
   "source": [
    "# تدريب النموذج\n",
    "model = MultinomialNB()\n",
    "model.fit(X_train_features, y_train)\n",
    "\n",
    "# التنبؤ والتقييم\n",
    "y_pred = model.predict(X_test_features)\n",
    "accuracy = accuracy_score(y_test, y_pred)\n",
    "print(\"Accuracy = \", accuracy)\n",
    "\n",
    "# طباعة تقرير التصنيف\n",
    "print(\"\\nClassification Report:\")\n",
    "print(classification_report(y_test, y_pred))"
   ]
  },
  {
   "cell_type": "code",
   "execution_count": null,
   "id": "4bb9d3a2",
   "metadata": {},
   "outputs": [
    {
     "name": "stdout",
     "output_type": "stream",
     "text": [
      "=== An example of regular mail  ===\n",
      "This email address: regular mail (Ham)\n",
      "Confidence percentage: 99.88%\n",
      "\n",
      "=== Spam example ===\n",
      "This email: Spam (Spam)\n",
      "Confidence percentage: 95.31%\n",
      "\n",
      "=== Test your own mail ===\n"
     ]
    },
    {
     "name": "stdout",
     "output_type": "stream",
     "text": [
      "This email: Spam (Spam)\n",
      "Confidence percentage: 97.76%\n"
     ]
    }
   ],
   "source": [
    "def check_email(email_text):\n",
    "    # تحويل النص إلى نفس شكل الميزات المستخدمة في التدريب\n",
    "    email_features = feature_extraction.transform([email_text])\n",
    "\n",
    "    # التنبؤ\n",
    "    prediction = model.predict(email_features)[0]\n",
    "    probability = model.predict_proba(email_features)[0]\n",
    "    \n",
    "    # طباعة النتيجة\n",
    "    if prediction == 1:\n",
    "        print(f\"This email address: regular mail (Ham)\")\n",
    "        print(f\"Confidence percentage: {probability[1]*100:.2f}%\")\n",
    "    else:\n",
    "        print(f\"This email: Spam (Spam)\")\n",
    "        print(f\"Confidence percentage: {probability[0]*100:.2f}%\")\n",
    "\n",
    "# أمثلة للاختبار\n",
    "print(\"=== An example of regular mail  ===\")\n",
    "normal_email = \"Hi, Can we schedule a meeting tomorrow at 2 PM to discuss the project progress? Thanks\"\n",
    "check_email(normal_email)\n",
    "\n",
    "print(\"\\n=== Spam example ===\")\n",
    "spam_email = \"CONGRATULATIONS! You've won $1,000,000! Click here to claim your prize now! Limited time offer!!!\"\n",
    "check_email(spam_email)\n",
    "\n",
    "print(\"\\n=== Test your own mail ===\")\n",
    "# يمكنك تجربة بريدك الخاص هنا\n",
    "your_email = input(\"Enter the text of the email: \")\n",
    "check_email(your_email)"
   ]
  },
  {
   "cell_type": "code",
   "execution_count": null,
   "id": "f8fcaf0f",
   "metadata": {},
   "outputs": [
    {
     "name": "stdout",
     "output_type": "stream",
     "text": [
      "Saving the model and feature extractor...\n",
      "Model saved as 'spam_classifier_model.pkl'\n",
      "Feature extractor saved as 'feature_extractor.pkl'\n",
      "\n",
      "To load the model and make predictions in another script, use:\n",
      "\n",
      "import joblib\n",
      "\n",
      "# Load the model and feature extractor\n",
      "\n",
      "\n",
      "# Make predictions\n",
      "def predict_spam(email_text):\n",
      "    email_features = feature_extraction.transform([email_text])\n",
      "    prediction = model.predict(email_features)[0]\n",
      "    return \"Ham\" if prediction == 1 else \"Spam\"\n",
      "\n"
     ]
    }
   ],
   "source": [
    "print(\"Saving the model and feature extractor...\")\n",
    "\n",
    "joblib.dump(model, 'spam_classifier_model.pkl')\n",
    "print(\"Model saved as 'spam_classifier_model.pkl'\")\n",
    "\n",
    "joblib.dump(feature_extraction, 'feature_extractor.pkl')\n",
    "print(\"Feature extractor saved as 'feature_extractor.pkl'\")\n",
    "\n"
   ]
  }
 ],
 "metadata": {
  "kernelspec": {
   "display_name": "Python 3",
   "language": "python",
   "name": "python3"
  },
  "language_info": {
   "codemirror_mode": {
    "name": "ipython",
    "version": 3
   },
   "file_extension": ".py",
   "mimetype": "text/x-python",
   "name": "python",
   "nbconvert_exporter": "python",
   "pygments_lexer": "ipython3",
   "version": "3.10.11"
  }
 },
 "nbformat": 4,
 "nbformat_minor": 5
}
